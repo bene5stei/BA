{
 "cells": [
  {
   "cell_type": "markdown",
   "id": "002ae376-842c-4195-ae9b-7d98854cee10",
   "metadata": {},
   "source": [
    "# Imports"
   ]
  },
  {
   "cell_type": "code",
   "execution_count": 1,
   "id": "b66e4244-e5a9-4490-8d32-f2b1eca65a85",
   "metadata": {},
   "outputs": [],
   "source": [
    "import pandas as pd\n",
    "import matplotlib.pyplot as plt\n",
    "import numpy as np\n",
    "import string\n",
    "from matplotlib.patches import Rectangle\n",
    "from ipywidgets import interact, widgets\n",
    "import os\n",
    "from scipy.interpolate import interp1d, griddata\n",
    "from scipy.signal import savgol_filter\n",
    "from scipy.interpolate import make_interp_spline"
   ]
  },
  {
   "cell_type": "markdown",
   "id": "b4b16b36-76fb-4fbe-bfdf-71797b8f5f5c",
   "metadata": {},
   "source": [
    "# Config"
   ]
  },
  {
   "cell_type": "code",
   "execution_count": 2,
   "id": "9bca14b0-aa65-4800-b0da-c52d84535591",
   "metadata": {},
   "outputs": [],
   "source": [
    "config = {}\n",
    "\n",
    "# ROMY coordinates\n",
    "config['ROMY_lon'] = 11.275501\n",
    "config['ROMY_lat'] = 48.162941\n",
    "\n",
    "# path for figures to store\n",
    "config['outpath_figs'] = \"C:/Bachelorarbeit/figures/Geschwindigkeit/ROMYRLAS/\"\n",
    "# path for output data\n",
    "config['outpath_data'] = \"C:/Bachelorarbeit/data/waveformsROMYRLAS/\"\n"
   ]
  },
  {
   "cell_type": "code",
   "execution_count": 3,
   "id": "ea1502c6-a698-416b-9c17-0e4811b7b989",
   "metadata": {},
   "outputs": [],
   "source": [
    "outpath = config['outpath_figs']\n",
    "outpath_FUR =\"C:/Bachelorarbeit/figures/Geschwindigkeit/FURWET/\"\n",
    "df_Z = pd.read_csv(outpath_FUR + \"spektralanalyse_ergebnisse_Z.csv\")\n",
    "df_Z = pd.read_csv(outpath + \"spektralanalyse_ergebnisse_Z.csv\")\n",
    "font_title=17\n",
    "font_ax=13\n",
    "font_leg=11"
   ]
  },
  {
   "cell_type": "markdown",
   "id": "7c241351-004f-44fc-8601-6f5da07ecfb5",
   "metadata": {},
   "source": [
    "# Hilfsfunktionen\n"
   ]
  },
  {
   "cell_type": "code",
   "execution_count": 4,
   "id": "3141f7ec-678b-4c62-af21-5a5ee6e250c0",
   "metadata": {},
   "outputs": [],
   "source": [
    "def plot_component_periode(ax, df, title):\n",
    "    ratio_cols = [col for col in df.columns if col.startswith(\"ratio_\")]\n",
    "    frequencies = [float(col.split(\"_\")[1][:-2]) for col in ratio_cols]\n",
    "    periods = [1.0 / f for f in frequencies]\n",
    "    # Plot nach Tiefenbereichen\n",
    "    for (dmin, dmax), label in zip(depth_bins, depth_labels):\n",
    "        df_subset = df[(df[\"depth\"] >= dmin) & (df[\"depth\"] < dmax)]\n",
    "        num_events = len(df_subset)\n",
    "        if df_subset.empty:\n",
    "            continue\n",
    "\n",
    "        mean_ratios = df_subset[ratio_cols].mean()\n",
    "        sem_ratios = df_subset[ratio_cols].sem()\n",
    "        legend_label = f\"depth: {label} (n = {num_events})\"\n",
    "\n",
    "        if dmin == 0 and dmax == 700:\n",
    "            ax.plot(periods, mean_ratios.values, linestyle='--', linewidth=2, label=legend_label)\n",
    "        else:\n",
    "            ax.plot(periods, mean_ratios.values, linestyle='-', label=legend_label)\n",
    "\n",
    "        ax.fill_between(periods,\n",
    "                        mean_ratios.values - sem_ratios.values,\n",
    "                        mean_ratios.values + sem_ratios.values,\n",
    "                        alpha=0.2)\n",
    "\n",
    "    # Gesamtmittelwert über alle Tiefen (ohne SEM)\n",
    "    overall_mean = df[ratio_cols].mean()\n",
    "    ax.plot(periods,\n",
    "            overall_mean.values,\n",
    "            color='black',\n",
    "            linestyle=':',\n",
    "            linewidth=2,\n",
    "            label='Overall mean (all depths)')\n",
    "\n",
    "    ax.set_xlabel(\"Period [s]\",fontsize=font_ax)\n",
    "    ax.set_ylabel(\"Mean ratio (ROMY/RLAS)\",fontsize=font_ax)\n",
    "    ax.set_title(title,fontsize=font_title)\n",
    "    ax.grid(True)\n",
    "    ax.legend(fontsize=font_leg)\n",
    "\n",
    "# Funktion zur Vorbereitung der Daten\n",
    "def prepare_plot_data_periode(df):\n",
    "    ratio_cols = [col for col in df.columns if col.startswith(\"ratio_\")]\n",
    "    frequencies = [float(col.split(\"_\")[1][:-2]) for col in ratio_cols]\n",
    "    periods = [1.0 / f for f in frequencies]\n",
    "    return ratio_cols, periods\n",
    "\n",
    "def smooth_line_periode(x, y, points=500):\n",
    "    x = np.array(x)\n",
    "    y = np.array(y)\n",
    "    x_new = np.linspace(x.min(), x.max(), points)\n",
    "    spline = make_interp_spline(x, y, k=4)  # kubische Interpolation\n",
    "    y_smooth = spline(x_new)\n",
    "    return x_new, y_smooth\n",
    "\n",
    "# Funktion zur Erstellung der Interpolationsdaten\n",
    "\n",
    "def plot_component_with_sem_periode(ax, df, color, label):\n",
    "    # Frequenzen und Perioden extrahieren\n",
    "    ratio_cols = [col for col in df.columns if col.startswith(\"ratio_\")]\n",
    "    frequencies = [float(col.split(\"_\")[1][:-2]) for col in ratio_cols]\n",
    "    periods = [1.0 / f for f in frequencies]  # Umrechnung in Periode\n",
    "\n",
    "    # Mittelwert und SEM berechnen\n",
    "    mean_ratios = df[ratio_cols].mean()\n",
    "    sem_ratios = df[ratio_cols].sem()\n",
    "    num_events = len(df)\n",
    "\n",
    "    # Arrays erstellen\n",
    "    period_array = np.array(periods)\n",
    "    mean_array = mean_ratios.values\n",
    "    sem_array = sem_ratios.values\n",
    "\n",
    "    # Nach Perioden sortieren\n",
    "    sort_idx = np.argsort(period_array)\n",
    "    period_array = period_array[sort_idx]\n",
    "    mean_array = mean_array[sort_idx]\n",
    "    sem_array = sem_array[sort_idx]\n",
    "\n",
    "    # Plot ohne Glättung\n",
    "    ax.plot(period_array, mean_array, color=color, linewidth=2, label=f\"{label} (n = {num_events})\")\n",
    "    ax.fill_between(period_array,\n",
    "                    mean_array - sem_array,\n",
    "                    mean_array + sem_array,\n",
    "                    color=color,\n",
    "                    alpha=0.3,\n",
    "                    label=f\"{label} ± SEM\")\n"
   ]
  },
  {
   "cell_type": "markdown",
   "id": "508a99a2-62fe-4a65-8798-14881416838b",
   "metadata": {},
   "source": [
    "## Verhältnis gegen Frequenz"
   ]
  },
  {
   "cell_type": "code",
   "execution_count": 5,
   "id": "436d1dff-01dd-4b15-a953-93bcaf4961a6",
   "metadata": {},
   "outputs": [],
   "source": [
    "fig, ax = plt.subplots(figsize=(10, 6))\n",
    "\n",
    "df_Z = pd.read_csv(outpath + \"spektralanalyse_ergebnisse_Z.csv\")\n",
    "\n",
    "plot_component_with_sem_periode(ax, df_Z, color='green', label='Vertical component')\n",
    "\n",
    "# Achsen und Titel\n",
    "ax.set_xlabel(\"Periode (s)\",fontsize=font_ax)\n",
    "ax.set_xscale('log')\n",
    "ax.set_ylabel(\"Mean ratio (ROMY/RLAS)\",fontsize=font_ax)\n",
    "ax.set_title(\"Mean ratio per frequency (± SEM)\",fontsize=font_title)\n",
    "ax.grid(True)\n",
    "ax.legend(loc='best', fontsize=font_leg)\n",
    "\n",
    "# Layout & speichern\n",
    "plt.tight_layout()\n",
    "plt.savefig(outpath + \"meanratio_freqency_TandZ_SEM_ROMYRLAS_periode.png\", dpi=300)\n",
    "plt.close()\n"
   ]
  },
  {
   "cell_type": "code",
   "execution_count": 6,
   "id": "74476297-83fe-4f92-933c-c9014f850105",
   "metadata": {},
   "outputs": [],
   "source": [
    "fig, ax = plt.subplots(figsize=(10, 6))\n",
    "df_T = pd.read_csv(outpath_FUR + \"spektralanalyse_ergebnisse_Z.csv\")\n",
    "df_Z = pd.read_csv(outpath + \"spektralanalyse_ergebnisse_Z.csv\")\n",
    "df_TF=pd.read_csv(outpath_FUR + \"spektralanalyse_ergebnisse_T.csv\")\n",
    "# Komponenten plotten\n",
    "plot_component_with_sem_periode(ax, df_T, color='blue', label='FUR/WET (Z)')\n",
    "plot_component_with_sem_periode(ax, df_TF, color='orange', label='FUR/WET (T)')\n",
    "plot_component_with_sem_periode(ax, df_Z, color='green', label='ROMY/RLAS (Z)')\n",
    "\n",
    "# Achsen und Titel\n",
    "ax.set_xlabel(\"Periode (s)\",fontsize=font_ax)\n",
    "ax.set_xscale('log')\n",
    "ax.set_xlim(0.5, 10.5)\n",
    "ax.set_ylabel(\"Mean ratio (ROMY/RLAS)\",fontsize=font_ax)\n",
    "ax.set_title(f\"Mean ratio per frequency (± SEM) \\n comparison FUR/WET and ROMY/RLAS\",fontsize=font_title)\n",
    "ax.grid(True)\n",
    "ax.legend(loc='best', fontsize=font_ax)\n",
    "\n",
    "# Layout & speichern\n",
    "plt.tight_layout()\n",
    "plt.savefig(outpath + \"TZZmeanratio_freqency_TandZ_SEM_ROMYRLAS_periode_comparison.png\", dpi=300)\n",
    "plt.close()\n"
   ]
  },
  {
   "cell_type": "code",
   "execution_count": 7,
   "id": "344a851e-80fe-42fb-94c0-877bbe1ca8f9",
   "metadata": {},
   "outputs": [],
   "source": [
    "fig, ax = plt.subplots(figsize=(10, 6))\n",
    "df_T = pd.read_csv(outpath_FUR + \"spektralanalyse_ergebnisse_Z.csv\")\n",
    "df_Z = pd.read_csv(outpath + \"spektralanalyse_ergebnisse_Z.csv\")\n",
    "\n",
    "# Komponenten plotten\n",
    "plot_component_with_sem_periode(ax, df_T, color='blue', label='FUR/WET (Z)')\n",
    "plot_component_with_sem_periode(ax, df_Z, color='green', label='ROMY/RLAS (Z)')\n",
    "\n",
    "# Achsen und Titel\n",
    "ax.set_xlabel(\"Periode (s)\",fontsize=font_ax)\n",
    "ax.set_xscale('log')\n",
    "ax.set_xlim(0.5, 10.5)\n",
    "ax.set_ylabel(\"Mean ratio (ROMY/RLAS)\",fontsize=font_ax)\n",
    "ax.set_title(f\"Mean ratio per frequency (± SEM) \\n comparison FUR/WET and ROMY/RLAS\",fontsize=font_title)\n",
    "ax.grid(True)\n",
    "ax.legend(loc='best', fontsize=font_leg)\n",
    "\n",
    "# Layout & speichern\n",
    "plt.tight_layout()\n",
    "plt.savefig(outpath + \"meanratio_freqency_TandZ_SEM_ROMYRLAS_periode_comparison.png\", dpi=300)\n",
    "plt.close()\n"
   ]
  },
  {
   "cell_type": "markdown",
   "id": "813c3d4e-490d-4a20-b337-2d355230f6e0",
   "metadata": {},
   "source": [
    "# Tiefen\n"
   ]
  },
  {
   "cell_type": "markdown",
   "id": "3c5b21e3-8ae9-4cb9-b025-8a15dc0a4aa5",
   "metadata": {},
   "source": [
    "### Verhältnis gegen Frequenz unterteilt in Tiefengruppen"
   ]
  },
  {
   "cell_type": "code",
   "execution_count": 8,
   "id": "c7cfba9e-d823-42b7-8da8-73984a779024",
   "metadata": {},
   "outputs": [],
   "source": [
    "# Konfiguration\n",
    "depth_bins = [(0, 100), (100, 700)]\n",
    "depth_labels = [\"0–100 km\", \"100–700 km\"]\n",
    "full_range = (0, 700)\n",
    "df_T = pd.read_csv(outpath_FUR + \"spektralanalyse_ergebnisse_Z.csv\")\n",
    "df_Z = pd.read_csv(outpath + \"spektralanalyse_ergebnisse_Z.csv\")"
   ]
  },
  {
   "cell_type": "code",
   "execution_count": 13,
   "id": "ef64ac69-e311-4460-8b5b-cbcab07a53a5",
   "metadata": {},
   "outputs": [],
   "source": [
    "# Subplots erstellen\n",
    "fig, axs = plt.subplots(2, 1, figsize=(10, 8), sharex=True)\n",
    "\n",
    "# Komponenten plotten\n",
    "plot_component_periode(axs[0], df_T, \"FUR/WET (Z)\")\n",
    "plot_component_periode(axs[1], df_Z, \"ROMY/RLAS (Z)\")\n",
    "axs[0].text(0.02, 0.95, \"a)\", transform=axs[0].transAxes,\n",
    "            fontsize=14, fontweight='bold', va='top', ha='left')\n",
    "axs[1].set_xscale('log')\n",
    "axs[0].set_xscale('log')\n",
    "axs[1].text(0.02, 0.95, \"b)\", transform=axs[1].transAxes,\n",
    "            fontsize=14, fontweight='bold', va='top', ha='left')\n",
    "# Formatierung & Speichern\n",
    "plt.suptitle(\"Mean ratio (ROMY/RLAS) against period divided by depth range (± SEM)\",fontsize=font_title)\n",
    "plt.tight_layout(rect=[0, 0, 1, 0.97])\n",
    "plt.savefig(outpath + \"meanratio_freqency_depths_ROMYRLASundFURWET_periode.png\", dpi=300)\n",
    "\n",
    "plt.close()"
   ]
  },
  {
   "cell_type": "code",
   "execution_count": 11,
   "id": "4004f43f-7c9f-47ff-8eda-de5e6d6809ea",
   "metadata": {},
   "outputs": [],
   "source": [
    "# Subplots erstellen\n",
    "fig, axs = plt.subplots(1, 1, figsize=(10, 6), sharex=True)\n",
    "\n",
    "# Komponenten plotten\n",
    "\n",
    "plot_component_periode(axs, df_Z, \"ROMY/RLAS (Z)\")\n",
    "axs.set_xscale('log')\n",
    "# Formatierung & Speichern\n",
    "plt.suptitle(\"Mean ratio (ROMY/RLAS) against period divided by depth range (± SEM)\",fontsize=font_title)\n",
    "plt.tight_layout(rect=[0, 0, 1, 0.97])\n",
    "plt.savefig(outpath + \"meanratio_depths_ROMYRLAS_periode.png\", dpi=300)\n",
    "\n",
    "plt.close()"
   ]
  },
  {
   "cell_type": "code",
   "execution_count": null,
   "id": "9d0a20c7-59ca-431f-ba19-8b9fafc7c454",
   "metadata": {},
   "outputs": [],
   "source": []
  }
 ],
 "metadata": {
  "kernelspec": {
   "display_name": "Python 3 (ipykernel)",
   "language": "python",
   "name": "python3"
  },
  "language_info": {
   "codemirror_mode": {
    "name": "ipython",
    "version": 3
   },
   "file_extension": ".py",
   "mimetype": "text/x-python",
   "name": "python",
   "nbconvert_exporter": "python",
   "pygments_lexer": "ipython3",
   "version": "3.10.16"
  }
 },
 "nbformat": 4,
 "nbformat_minor": 5
}
