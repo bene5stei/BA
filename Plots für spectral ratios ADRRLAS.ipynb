{
 "cells": [
  {
   "cell_type": "markdown",
   "id": "002ae376-842c-4195-ae9b-7d98854cee10",
   "metadata": {},
   "source": [
    "# Imports"
   ]
  },
  {
   "cell_type": "code",
   "execution_count": 10,
   "id": "b66e4244-e5a9-4490-8d32-f2b1eca65a85",
   "metadata": {},
   "outputs": [],
   "source": [
    "import pandas as pd\n",
    "import matplotlib.pyplot as plt\n",
    "import numpy as np\n",
    "import string\n",
    "from matplotlib.patches import Rectangle\n",
    "import cartopy.crs as ccrs\n",
    "import cartopy.feature as cfeature\n",
    "from ipywidgets import interact, widgets\n",
    "import os\n",
    "from scipy.interpolate import interp1d, griddata\n",
    "from scipy.signal import savgol_filter\n",
    "from functions.Hilfsfunktionen_plot import plot_component_with_sem"
   ]
  },
  {
   "cell_type": "markdown",
   "id": "b4b16b36-76fb-4fbe-bfdf-71797b8f5f5c",
   "metadata": {},
   "source": [
    "# Config"
   ]
  },
  {
   "cell_type": "code",
   "execution_count": 11,
   "id": "9bca14b0-aa65-4800-b0da-c52d84535591",
   "metadata": {},
   "outputs": [],
   "source": [
    "config = {}\n",
    "\n",
    "# ROMY coordinates\n",
    "config['ROMY_lon'] = 11.275501\n",
    "config['ROMY_lat'] = 48.162941\n",
    "\n",
    "# path for figures to store\n",
    "config['outpath_figs'] = \"C:/Bachelorarbeit/figures/Geschwindigkeit/ADRRLAS/\"\n",
    "# path for output data\n",
    "config['outpath_data'] = \"C:/Bachelorarbeit/data/waveformsadrrlas/\"\n",
    "outpath = config['outpath_figs']\n",
    "font_title=17\n",
    "font_ax=13\n",
    "font_leg=11"
   ]
  },
  {
   "cell_type": "markdown",
   "id": "7c241351-004f-44fc-8601-6f5da07ecfb5",
   "metadata": {},
   "source": [
    "# Hilfsfunktionen\n"
   ]
  },
  {
   "cell_type": "code",
   "execution_count": 18,
   "id": "a1561cfe-ec73-4bdf-84ff-11590503e456",
   "metadata": {},
   "outputs": [],
   "source": [
    "def plot_component(ax, df, title):\n",
    "    ratio_cols = [col for col in df.columns if col.startswith(\"ratio_\")]\n",
    "    frequencies = [float(col.split(\"_\")[1][:-2]) for col in ratio_cols]\n",
    "\n",
    "    # Plot nach Tiefenbereichen\n",
    "    for (dmin, dmax), label in zip(depth_bins, depth_labels):\n",
    "        df_subset = df[(df[\"depth\"] >= dmin) & (df[\"depth\"] < dmax)]\n",
    "        num_events = len(df_subset)\n",
    "        if df_subset.empty:\n",
    "            continue\n",
    "\n",
    "        mean_ratios = df_subset[ratio_cols].mean()\n",
    "        sem_ratios = df_subset[ratio_cols].sem()\n",
    "        legend_label = f\"depth: {label} (n = {num_events})\"\n",
    "\n",
    "        if dmin == 0 and dmax == 700:\n",
    "            ax.plot(frequencies, mean_ratios.values, linestyle='--', linewidth=2, label=legend_label)\n",
    "        else:\n",
    "            ax.plot(frequencies, mean_ratios.values, linestyle='-', label=legend_label)\n",
    "\n",
    "        ax.fill_between(frequencies,\n",
    "                        mean_ratios.values - sem_ratios.values,\n",
    "                        mean_ratios.values + sem_ratios.values,\n",
    "                        alpha=0.2)\n",
    "\n",
    "    # Gesamtmittelwert über alle Tiefen (ohne SEM)\n",
    "    overall_mean = df[ratio_cols].mean()\n",
    "    ax.plot(frequencies,\n",
    "            overall_mean.values,\n",
    "            color='black',\n",
    "            linestyle=':',\n",
    "            linewidth=2,\n",
    "            label='Overall mean (all depths)')\n",
    "\n",
    "    ax.set_xlabel(\"Frequency [Hz]\",fontsize=font_ax)\n",
    "    ax.set_ylabel(\"Median ratio (ROMY (ADR)/RLAS)\",fontsize=font_ax)\n",
    "    ax.set_title(title,fontsize=font_title)\n",
    "    ax.grid(True)\n",
    "    ax.legend(loc='best')"
   ]
  },
  {
   "cell_type": "code",
   "execution_count": 19,
   "id": "42d6bf95-5114-4256-9375-fc0b5dc41fe4",
   "metadata": {},
   "outputs": [],
   "source": [
    "# Hilfsfunktion zum Zeichnen eines Rechtecks\n",
    "def add_region(ax, lon_min, lon_max, lat_min, lat_max, label, color='red', alpha=0.2):\n",
    "    rect = Rectangle((lon_min, lat_min), lon_max - lon_min, lat_max - lat_min,\n",
    "                     linewidth=1, edgecolor=color, facecolor=color, alpha=alpha,\n",
    "                     transform=ccrs.PlateCarree(), label=label)\n",
    "    ax.add_patch(rect)"
   ]
  },
  {
   "cell_type": "markdown",
   "id": "33de5ccc-e8bb-4f2c-ac42-c17b83e704b0",
   "metadata": {},
   "source": [
    "# Plots"
   ]
  },
  {
   "cell_type": "code",
   "execution_count": 20,
   "id": "29007849-11ec-4730-bdaf-fde1e2849442",
   "metadata": {},
   "outputs": [],
   "source": [
    "fig, ax = plt.subplots(figsize=(10, 6))\n",
    "df_T = pd.read_csv(config['outpath_figs'] + \"spektralanalyse_ergebnisse_oadr.csv\")\n",
    "df_Z = pd.read_csv(config['outpath_figs'] + \"spektralanalyse_ergebnisse_aadr.csv\")\n",
    "# Komponenten plotten\n",
    "plot_component_with_sem(ax, df_T, color='blue', label='OADR')\n",
    "plot_component_with_sem(ax, df_Z, color='green', label='AADR')\n",
    "\n",
    "# Achsen und Titel\n",
    "ax.set_xlabel(\"Frequency [Hz]\",fontsize=font_ax)\n",
    "ax.set_ylabel(\"Mean ratio (ROMYADR/RLAS)\",fontsize=font_ax)\n",
    "ax.set_title(\"Mean ratio per frequency (± SEM)\",fontsize=font_title)\n",
    "ax.grid(True)\n",
    "ax.legend(loc='best', fontsize=font_leg)\n",
    "\n",
    "# Layout & speichern\n",
    "plt.tight_layout()\n",
    "plt.savefig(outpath + \"meanratio_freqency_TandZ_SEM_adrrlas.png\", dpi=300)\n",
    "plt.close()\n"
   ]
  },
  {
   "cell_type": "markdown",
   "id": "813c3d4e-490d-4a20-b337-2d355230f6e0",
   "metadata": {},
   "source": [
    "## Tiefen\n"
   ]
  },
  {
   "cell_type": "code",
   "execution_count": 21,
   "id": "c7cfba9e-d823-42b7-8da8-73984a779024",
   "metadata": {},
   "outputs": [],
   "source": [
    "# Konfiguration\n",
    "depth_bins = [(0, 100), (100, 700)]\n",
    "depth_labels = [\"0–100 km\", \"100–700 km\"]\n",
    "full_range = (0, 700)\n"
   ]
  },
  {
   "cell_type": "code",
   "execution_count": 22,
   "id": "0bc08a4a-0084-434e-89c9-ede4b20d208d",
   "metadata": {},
   "outputs": [],
   "source": [
    "# Daten laden\n",
    "df_oadr = pd.read_csv(outpath + \"spektralanalyse_ergebnisse_oadr.csv\")\n",
    "df_aadr = pd.read_csv(outpath + \"spektralanalyse_ergebnisse_aadr.csv\")\n",
    "\n",
    "# Subplots erstellen\n",
    "fig, axs = plt.subplots(2, 1, figsize=(12, 10), sharex=True)\n",
    "\n",
    "# Komponenten plotten\n",
    "plot_component(axs[0], df_oadr, \"OADR\")\n",
    "plot_component(axs[1], df_aadr, \"AADR\")\n",
    "axs[0].text(0.02, 0.95, \"a)\", transform=axs[0].transAxes,\n",
    "            fontsize=14, fontweight='bold', va='top', ha='left')\n",
    "axs[1].text(0.02, 0.95, \"b)\", transform=axs[1].transAxes,\n",
    "            fontsize=14, fontweight='bold', va='top', ha='left')\n",
    "# Formatierung & Speichern\n",
    "plt.suptitle(\"Median ratio (ROMYADR/RLAS) per frequency divided by depth range (± SEM)\")\n",
    "plt.tight_layout(rect=[0, 0, 1, 0.97])\n",
    "plt.savefig(outpath + \"medianratio_freqency_depths_adr.png\", dpi=300)\n",
    "\n",
    "plt.close()"
   ]
  },
  {
   "cell_type": "markdown",
   "id": "fb25b5d2-b750-4d01-b3c4-a8b350c992b4",
   "metadata": {},
   "source": [
    "## Weltkarte"
   ]
  },
  {
   "cell_type": "code",
   "execution_count": 17,
   "id": "a71dab45-f03d-4e1f-a5cd-10580d7ad6f5",
   "metadata": {},
   "outputs": [
    {
     "name": "stdout",
     "output_type": "stream",
     "text": [
      " -> Kartenplot gespeichert unter: C:/Bachelorarbeit/figures/Geschwindigkeit/ADRRLAS/worldmap_earthquke_distribution_adr.png\n"
     ]
    }
   ],
   "source": [
    "df = pd.read_csv(outpath + \"spektralanalyse_ergebnisse_oadr.csv\")\n",
    "# Daten aus den Spalten extrahieren\n",
    "lats = df['lat'].values\n",
    "lons = df['lon'].values\n",
    "magnitudes = df['magnitude'].values\n",
    "num=len(df)\n",
    "mapplot = plt.figure(figsize=(14, 8))\n",
    "ax = plt.axes(projection=ccrs.PlateCarree())\n",
    "ax.set_global()\n",
    "\n",
    "ax.add_feature(cfeature.COASTLINE)\n",
    "ax.add_feature(cfeature.BORDERS, linestyle=':')\n",
    "ax.add_feature(cfeature.LAND, facecolor='lightgray')\n",
    "\n",
    "# Station-Koordinaten\n",
    "sta_lat = config['ROMY_lat']\n",
    "sta_lon = config['ROMY_lon']\n",
    "ax.scatter(sta_lon, sta_lat, color='blue', s=100, marker='*', edgecolor='k', transform=ccrs.PlateCarree(), label='FUR')\n",
    "\n",
    "ax.legend(loc='upper right',fontsize=font_leg)\n",
    "\n",
    "sc = ax.scatter(lons, lats, c=magnitudes, cmap='viridis', s=[m**3 for m in magnitudes], alpha=0.7, edgecolor='k', transform=ccrs.PlateCarree())\n",
    "\n",
    "ax.set_title(f\"Earthquake distribution ({num} events)\",fontsize=font_title)\n",
    "ax.gridlines(draw_labels=True)\n",
    "\n",
    "cbar = plt.colorbar(sc, ax=ax, orientation='vertical', shrink=0.8, pad=0.05)\n",
    "cbar.set_label(\"Magnitude\",fontsize=font_ax)\n",
    "\n",
    "# Regionen markieren\n",
    "add_region(ax, -50, 50, 30, 60, \"Region 1 (Europe)\", color=\"red\")\n",
    "add_region(ax, 60, 180, 15, 60, \"Region 2 (Asia)\", color=\"blue\")\n",
    "add_region(ax, 100, 180, -10, 15, \"Region 2 (Asia)\", color=\"blue\")\n",
    "add_region(ax, -150, -60, 5, 60, \"Region 4 (Northamerica)\", color=\"green\")\n",
    "add_region(ax, -120, -50, -80, 5, \"Region 4 (Southamerica)\", color=\"green\")\n",
    "add_region(ax, 90, 180, -60, -10, \"Region 6 (Ozeania)\", color=\"orange\")\n",
    "add_region(ax, -180, -150, -60, -10, \"Region 6 (Ozeania)\", color=\"orange\")\n",
    "\n",
    "# Duplikate in Legende vermeiden\n",
    "handles, labels = ax.get_legend_handles_labels()\n",
    "by_label = dict(zip(labels, handles))\n",
    "ax.legend(by_label.values(), by_label.keys(), loc='lower left',fontsize=font_leg)\n",
    "\n",
    "mapplotpath = config['outpath_figs'] + \"worldmap_earthquke_distribution_adr.png\"\n",
    "mapplot.savefig(mapplotpath, dpi=150, bbox_inches='tight')\n",
    "print(f\" -> Kartenplot gespeichert unter: {mapplotpath}\")\n",
    "plt.close()"
   ]
  },
  {
   "cell_type": "code",
   "execution_count": null,
   "id": "4e136974-7a13-444d-a1eb-d54b43ee258c",
   "metadata": {},
   "outputs": [],
   "source": []
  }
 ],
 "metadata": {
  "kernelspec": {
   "display_name": "Python 3 (ipykernel)",
   "language": "python",
   "name": "python3"
  },
  "language_info": {
   "codemirror_mode": {
    "name": "ipython",
    "version": 3
   },
   "file_extension": ".py",
   "mimetype": "text/x-python",
   "name": "python",
   "nbconvert_exporter": "python",
   "pygments_lexer": "ipython3",
   "version": "3.10.16"
  }
 },
 "nbformat": 4,
 "nbformat_minor": 5
}
